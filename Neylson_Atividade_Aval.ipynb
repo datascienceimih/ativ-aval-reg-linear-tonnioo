{
  "nbformat": 4,
  "nbformat_minor": 0,
  "metadata": {
    "colab": {
      "name": "Neylson Atividade Aval.ipynb",
      "version": "0.3.2",
      "provenance": []
    },
    "kernelspec": {
      "name": "python3",
      "display_name": "Python 3"
    }
  },
  "cells": [
    {
      "metadata": {
        "colab_type": "text",
        "id": "wNNBtNAQhZQx"
      },
      "cell_type": "markdown",
      "source": [
        "## (d)"
      ]
    },
    {
      "metadata": {
        "id": "CaUCRO6Sosc8",
        "colab_type": "code",
        "outputId": "ab499d4c-bdc0-45cf-cf09-1ba2d3771cca",
        "colab": {
          "base_uri": "https://localhost:8080/",
          "height": 17
        }
      },
      "cell_type": "code",
      "source": [
        "import numpy as np\n",
        "import pandas as pd\n",
        "from sklearn import linear_model\n",
        "from sklearn.model_selection import train_test_split\n",
        "from sklearn.preprocessing import PolynomialFeatures\n",
        "import plotly\n",
        "from plotly.offline import download_plotlyjs, init_notebook_mode, plot, iplot\n",
        "init_notebook_mode(connected=True)"
      ],
      "execution_count": 94,
      "outputs": [
        {
          "output_type": "display_data",
          "data": {
            "text/vnd.plotly.v1+html": "<script type=\"text/javascript\">window.PlotlyConfig = {MathJaxConfig: 'local'};</script><script type=\"text/javascript\">if (window.MathJax) {MathJax.Hub.Config({SVG: {font: \"STIX-Web\"}});}</script><script>requirejs.config({paths: { 'plotly': ['https://cdn.plot.ly/plotly-latest.min']},});if(!window._Plotly) {require(['plotly'],function(plotly) {window._Plotly=plotly;});}</script>",
            "text/html": [
              "<script type=\"text/javascript\">window.PlotlyConfig = {MathJaxConfig: 'local'};</script><script type=\"text/javascript\">if (window.MathJax) {MathJax.Hub.Config({SVG: {font: \"STIX-Web\"}});}</script><script>requirejs.config({paths: { 'plotly': ['https://cdn.plot.ly/plotly-latest.min']},});if(!window._Plotly) {require(['plotly'],function(plotly) {window._Plotly=plotly;});}</script>"
            ]
          },
          "metadata": {
            "tags": []
          }
        }
      ]
    },
    {
      "metadata": {
        "id": "rUZo2NVEQdQP",
        "colab_type": "code",
        "colab": {}
      },
      "cell_type": "code",
      "source": [
        "plotly.tools.set_credentials_file(username='tonnioo',api_key='xfxa7pkOvzUiTjB3BWOG')"
      ],
      "execution_count": 0,
      "outputs": []
    },
    {
      "metadata": {
        "id": "AOtYYRa83XVF",
        "colab_type": "code",
        "colab": {}
      },
      "cell_type": "code",
      "source": [
        "import plotly.plotly as py\n",
        "import plotly.graph_objs as go"
      ],
      "execution_count": 0,
      "outputs": []
    },
    {
      "metadata": {
        "id": "-oj9r_XpJAzk",
        "colab_type": "code",
        "colab": {}
      },
      "cell_type": "code",
      "source": [
        "####COMENTÁRIO#####\n",
        "\n",
        "#Deixei de dar alguns resultados e alguns plots específicos\n",
        "#por causa da minha inexperiência com estatística\n",
        "#e umas facilidades que o python não tem.\n",
        "#Fora isso, tentei ao máximo conseguir resultados fiéis à realidade."
      ],
      "execution_count": 0,
      "outputs": []
    },
    {
      "metadata": {
        "id": "tuL8KAhv_NiN",
        "colab_type": "text"
      },
      "cell_type": "markdown",
      "source": [
        "# 8. This question involves the use of simple linear regression on the Auto data set.\n"
      ]
    },
    {
      "metadata": {
        "id": "xVdmfEPkAzE5",
        "colab_type": "text"
      },
      "cell_type": "markdown",
      "source": [
        "## (a)"
      ]
    },
    {
      "metadata": {
        "id": "4-eQXGsHAcGS",
        "colab_type": "text"
      },
      "cell_type": "markdown",
      "source": [
        "\n",
        "Use the\n",
        "lm()\n",
        "function to perform a simple linear regression with\n",
        "mpg\n",
        "as the response and\n",
        "horsepower\n",
        "as the predictor. Use the\n",
        "summary()\n",
        "function to print the results. Comment on the output.\n",
        "\n"
      ]
    },
    {
      "metadata": {
        "id": "uJmTSbKErivj",
        "colab_type": "code",
        "colab": {}
      },
      "cell_type": "code",
      "source": [
        "auto = pd.read_csv(\"https://www-bcf.usc.edu/~gareth/ISL/Auto.csv\")\n",
        "\n",
        "#problema: todos os valores de 'horsepower' estão como string, \n",
        "#e os valores nulos estão como '?' \n",
        "auto = auto.loc[auto['horsepower'] != '?']\n",
        "auto['horsepower'] = auto['horsepower'].apply(int)\n",
        "\n",
        "df_x = pd.DataFrame(auto['horsepower'])\n",
        "df_y = pd.DataFrame(auto['mpg'])\n",
        "\n",
        "x_train,x_test,y_train,y_test = train_test_split(df_x,df_y,test_size=0.3,\n",
        "                                                 random_state=1)"
      ],
      "execution_count": 0,
      "outputs": []
    },
    {
      "metadata": {
        "id": "YccJNijT5ATz",
        "colab_type": "code",
        "outputId": "c2193fca-1ba3-4ba7-ea13-3edf23f19427",
        "colab": {
          "base_uri": "https://localhost:8080/",
          "height": 35
        }
      },
      "cell_type": "code",
      "source": [
        "reg = linear_model.LinearRegression()\n",
        "\n",
        "reg.fit(x_train,y_train)\n",
        "reg.score(x_test,y_test)"
      ],
      "execution_count": 99,
      "outputs": [
        {
          "output_type": "execute_result",
          "data": {
            "text/plain": [
              "0.6059927446641065"
            ]
          },
          "metadata": {
            "tags": []
          },
          "execution_count": 99
        }
      ]
    },
    {
      "metadata": {
        "id": "A7gejGjTAvIa",
        "colab_type": "text"
      },
      "cell_type": "markdown",
      "source": [
        "### For example:\n",
        "\n"
      ]
    },
    {
      "metadata": {
        "id": "0hwRYPnirBar",
        "colab_type": "text"
      },
      "cell_type": "markdown",
      "source": [
        "**i,ii. Is there a relationship between the predictor and the response? \n",
        " How strong is the relationship between the predictor and\n",
        "the response?**\n"
      ]
    },
    {
      "metadata": {
        "id": "6KVJhYpg-QNp",
        "colab_type": "text"
      },
      "cell_type": "markdown",
      "source": [
        "Sim, existe uma correlação de 60% segundo o coeficiente de determinação R²."
      ]
    },
    {
      "metadata": {
        "id": "KN7KTlpYBOhe",
        "colab_type": "text"
      },
      "cell_type": "markdown",
      "source": [
        "\n",
        "**iii. Is the relationship between the predictor and the response\n",
        "positive or negative?**\n"
      ]
    },
    {
      "metadata": {
        "id": "CCEu8w0A-_IN",
        "colab_type": "text"
      },
      "cell_type": "markdown",
      "source": [
        "Negativa, pois quanto maior 'horsepower', menor 'mpg'"
      ]
    },
    {
      "metadata": {
        "id": "9H4Mrsu5BP0I",
        "colab_type": "text"
      },
      "cell_type": "markdown",
      "source": [
        "**iv. What is the predicted\n",
        "mpg\n",
        "associated with a\n",
        "horsepower\n",
        "of\n",
        "98? What are the associated 95 % confidence and prediction\n",
        "intervals?**"
      ]
    },
    {
      "metadata": {
        "id": "-wY4bWK9_r2N",
        "colab_type": "code",
        "outputId": "23eb3af2-88c2-416b-c5cf-64e8c4babf60",
        "colab": {
          "base_uri": "https://localhost:8080/",
          "height": 35
        }
      },
      "cell_type": "code",
      "source": [
        "#predicted mpg \n",
        "x_predict = pd.DataFrame({'horsepower':[98]})\n",
        "reg.predict(x_predict)"
      ],
      "execution_count": 100,
      "outputs": [
        {
          "output_type": "execute_result",
          "data": {
            "text/plain": [
              "array([[24.2005222]])"
            ]
          },
          "metadata": {
            "tags": []
          },
          "execution_count": 100
        }
      ]
    },
    {
      "metadata": {
        "id": "IpGMwJn-E9D3",
        "colab_type": "code",
        "outputId": "3a50cbb7-5f46-4f3e-d66c-cac54413c8ae",
        "colab": {
          "base_uri": "https://localhost:8080/",
          "height": 35
        }
      },
      "cell_type": "code",
      "source": [
        "#calculando o erro padrao\n",
        "sum_list =(reg.predict(x_test) - y_test)**2\n",
        "variance = (np.sum(sum_list)[0])/len(sum_list)\n",
        "stderr = np.sqrt(variance)\n",
        "print(stderr)"
      ],
      "execution_count": 101,
      "outputs": [
        {
          "output_type": "stream",
          "text": [
            "5.118102705551006\n"
          ],
          "name": "stdout"
        }
      ]
    },
    {
      "metadata": {
        "id": "D8BB4EY4Bd-n",
        "colab_type": "text"
      },
      "cell_type": "markdown",
      "source": [
        "## (b) "
      ]
    },
    {
      "metadata": {
        "id": "smEf5EOfBj2_",
        "colab_type": "text"
      },
      "cell_type": "markdown",
      "source": [
        "**Plot the response and the predictor. Use the\n",
        "abline()\n",
        "function\n",
        "to display the least squares regression line.**"
      ]
    },
    {
      "metadata": {
        "id": "XNlNahZJHcVs",
        "colab_type": "code",
        "outputId": "e6624a75-7106-42dc-d112-a0039d2fb136",
        "colab": {
          "base_uri": "https://localhost:8080/",
          "height": 546
        }
      },
      "cell_type": "code",
      "source": [
        "scatter_plot = go.Scatter(x=x_test,\n",
        "                          y=y_test,\n",
        "                          mode='markers')\n",
        "line_plot = go.Scatter(x=x_train,\n",
        "                       y=reg.predict(x_train),\n",
        "                       mode='lines')\n",
        "data = [scatter_plot,\n",
        "        line_plot]\n",
        "py.iplot(data)"
      ],
      "execution_count": 102,
      "outputs": [
        {
          "output_type": "execute_result",
          "data": {
            "text/html": [
              "<iframe id=\"igraph\" scrolling=\"no\" style=\"border:none;\" seamless=\"seamless\" src=\"https://plot.ly/~tonnioo/144.embed\" height=\"525px\" width=\"100%\"></iframe>"
            ],
            "text/plain": [
              "<plotly.tools.PlotlyDisplay object>"
            ]
          },
          "metadata": {
            "tags": []
          },
          "execution_count": 102
        }
      ]
    },
    {
      "metadata": {
        "id": "V-g9vDRFBmJP",
        "colab_type": "text"
      },
      "cell_type": "markdown",
      "source": [
        "## (c)"
      ]
    },
    {
      "metadata": {
        "id": "Fyh9oL0xBtWW",
        "colab_type": "text"
      },
      "cell_type": "markdown",
      "source": [
        "**Use the\n",
        "plot()\n",
        "function to produce diagnostic plots of the least\n",
        "squares regression fit. Comment on any problems you see with\n",
        "the fit.**"
      ]
    },
    {
      "metadata": {
        "id": "nVIbGPQslkCR",
        "colab_type": "text"
      },
      "cell_type": "markdown",
      "source": [
        "A regressão possui poder preditivo limitado, é possível observar *outliers* no gráfico. O gráfico de dispersão também sugere que uma regressão polinomial seria mais apropriada (underfitting)."
      ]
    },
    {
      "metadata": {
        "id": "5_7jClx9B5z4",
        "colab_type": "text"
      },
      "cell_type": "markdown",
      "source": [
        "# 9. This question involves the use of multiple linear regression on the Auto data set."
      ]
    },
    {
      "metadata": {
        "id": "h61gM6KWCHAm",
        "colab_type": "text"
      },
      "cell_type": "markdown",
      "source": [
        "## (a)"
      ]
    },
    {
      "metadata": {
        "id": "5PcuXiSZCZxE",
        "colab_type": "text"
      },
      "cell_type": "markdown",
      "source": [
        "Produce a scatterplot matrix which includes all of the variables\n",
        "in the data set."
      ]
    },
    {
      "metadata": {
        "id": "hRqe7RlxHTUq",
        "colab_type": "code",
        "outputId": "5056cf6d-4599-4502-9fda-98c3a1fe3b6e",
        "colab": {
          "base_uri": "https://localhost:8080/",
          "height": 631
        }
      },
      "cell_type": "code",
      "source": [
        "pd.plotting.scatter_matrix(auto,figsize=(10,10))\n",
        "print(auto.columns.tolist())"
      ],
      "execution_count": 103,
      "outputs": [
        {
          "output_type": "stream",
          "text": [
            "['mpg', 'cylinders', 'displacement', 'horsepower', 'weight', 'acceleration', 'year', 'origin', 'name']\n"
          ],
          "name": "stdout"
        },
        {
          "output_type": "display_data",
          "data": {
            "image/png": "[encoded data removed]",
            "text/plain": [
              "<Figure size 720x720 with 64 Axes>"
            ]
          },
          "metadata": {
            "tags": []
          }
        }
      ]
    },
    {
      "metadata": {
        "id": "9qWiZdYNCLeU",
        "colab_type": "text"
      },
      "cell_type": "markdown",
      "source": [
        "## (b)"
      ]
    },
    {
      "metadata": {
        "id": "Hgy8-hXaCdcU",
        "colab_type": "text"
      },
      "cell_type": "markdown",
      "source": [
        "Compute the matrix of correlations between the variables using\n",
        "the function\n",
        "cor()\n",
        ". You will need to exclude the\n",
        "name\n",
        "variable,\n",
        "cor()\n",
        "which is qualitative."
      ]
    },
    {
      "metadata": {
        "id": "ULHUjFGjPKWx",
        "colab_type": "code",
        "outputId": "f6a0df44-9954-4516-fdda-5ec2182ad786",
        "colab": {
          "base_uri": "https://localhost:8080/",
          "height": 300
        }
      },
      "cell_type": "code",
      "source": [
        "auto.corr()"
      ],
      "execution_count": 104,
      "outputs": [
        {
          "output_type": "execute_result",
          "data": {
            "text/html": [
              "<div>\n",
              "<style scoped>\n",
              "    .dataframe tbody tr th:only-of-type {\n",
              "        vertical-align: middle;\n",
              "    }\n",
              "\n",
              "    .dataframe tbody tr th {\n",
              "        vertical-align: top;\n",
              "    }\n",
              "\n",
              "    .dataframe thead th {\n",
              "        text-align: right;\n",
              "    }\n",
              "</style>\n",
              "<table border=\"1\" class=\"dataframe\">\n",
              "  <thead>\n",
              "    <tr style=\"text-align: right;\">\n",
              "      <th></th>\n",
              "      <th>mpg</th>\n",
              "      <th>cylinders</th>\n",
              "      <th>displacement</th>\n",
              "      <th>horsepower</th>\n",
              "      <th>weight</th>\n",
              "      <th>acceleration</th>\n",
              "      <th>year</th>\n",
              "      <th>origin</th>\n",
              "    </tr>\n",
              "  </thead>\n",
              "  <tbody>\n",
              "    <tr>\n",
              "      <th>mpg</th>\n",
              "      <td>1.000000</td>\n",
              "      <td>-0.777618</td>\n",
              "      <td>-0.805127</td>\n",
              "      <td>-0.778427</td>\n",
              "      <td>-0.832244</td>\n",
              "      <td>0.423329</td>\n",
              "      <td>0.580541</td>\n",
              "      <td>0.565209</td>\n",
              "    </tr>\n",
              "    <tr>\n",
              "      <th>cylinders</th>\n",
              "      <td>-0.777618</td>\n",
              "      <td>1.000000</td>\n",
              "      <td>0.950823</td>\n",
              "      <td>0.842983</td>\n",
              "      <td>0.897527</td>\n",
              "      <td>-0.504683</td>\n",
              "      <td>-0.345647</td>\n",
              "      <td>-0.568932</td>\n",
              "    </tr>\n",
              "    <tr>\n",
              "      <th>displacement</th>\n",
              "      <td>-0.805127</td>\n",
              "      <td>0.950823</td>\n",
              "      <td>1.000000</td>\n",
              "      <td>0.897257</td>\n",
              "      <td>0.932994</td>\n",
              "      <td>-0.543800</td>\n",
              "      <td>-0.369855</td>\n",
              "      <td>-0.614535</td>\n",
              "    </tr>\n",
              "    <tr>\n",
              "      <th>horsepower</th>\n",
              "      <td>-0.778427</td>\n",
              "      <td>0.842983</td>\n",
              "      <td>0.897257</td>\n",
              "      <td>1.000000</td>\n",
              "      <td>0.864538</td>\n",
              "      <td>-0.689196</td>\n",
              "      <td>-0.416361</td>\n",
              "      <td>-0.455171</td>\n",
              "    </tr>\n",
              "    <tr>\n",
              "      <th>weight</th>\n",
              "      <td>-0.832244</td>\n",
              "      <td>0.897527</td>\n",
              "      <td>0.932994</td>\n",
              "      <td>0.864538</td>\n",
              "      <td>1.000000</td>\n",
              "      <td>-0.416839</td>\n",
              "      <td>-0.309120</td>\n",
              "      <td>-0.585005</td>\n",
              "    </tr>\n",
              "    <tr>\n",
              "      <th>acceleration</th>\n",
              "      <td>0.423329</td>\n",
              "      <td>-0.504683</td>\n",
              "      <td>-0.543800</td>\n",
              "      <td>-0.689196</td>\n",
              "      <td>-0.416839</td>\n",
              "      <td>1.000000</td>\n",
              "      <td>0.290316</td>\n",
              "      <td>0.212746</td>\n",
              "    </tr>\n",
              "    <tr>\n",
              "      <th>year</th>\n",
              "      <td>0.580541</td>\n",
              "      <td>-0.345647</td>\n",
              "      <td>-0.369855</td>\n",
              "      <td>-0.416361</td>\n",
              "      <td>-0.309120</td>\n",
              "      <td>0.290316</td>\n",
              "      <td>1.000000</td>\n",
              "      <td>0.181528</td>\n",
              "    </tr>\n",
              "    <tr>\n",
              "      <th>origin</th>\n",
              "      <td>0.565209</td>\n",
              "      <td>-0.568932</td>\n",
              "      <td>-0.614535</td>\n",
              "      <td>-0.455171</td>\n",
              "      <td>-0.585005</td>\n",
              "      <td>0.212746</td>\n",
              "      <td>0.181528</td>\n",
              "      <td>1.000000</td>\n",
              "    </tr>\n",
              "  </tbody>\n",
              "</table>\n",
              "</div>"
            ],
            "text/plain": [
              "                   mpg  cylinders  displacement  horsepower    weight  \\\n",
              "mpg           1.000000  -0.777618     -0.805127   -0.778427 -0.832244   \n",
              "cylinders    -0.777618   1.000000      0.950823    0.842983  0.897527   \n",
              "displacement -0.805127   0.950823      1.000000    0.897257  0.932994   \n",
              "horsepower   -0.778427   0.842983      0.897257    1.000000  0.864538   \n",
              "weight       -0.832244   0.897527      0.932994    0.864538  1.000000   \n",
              "acceleration  0.423329  -0.504683     -0.543800   -0.689196 -0.416839   \n",
              "year          0.580541  -0.345647     -0.369855   -0.416361 -0.309120   \n",
              "origin        0.565209  -0.568932     -0.614535   -0.455171 -0.585005   \n",
              "\n",
              "              acceleration      year    origin  \n",
              "mpg               0.423329  0.580541  0.565209  \n",
              "cylinders        -0.504683 -0.345647 -0.568932  \n",
              "displacement     -0.543800 -0.369855 -0.614535  \n",
              "horsepower       -0.689196 -0.416361 -0.455171  \n",
              "weight           -0.416839 -0.309120 -0.585005  \n",
              "acceleration      1.000000  0.290316  0.212746  \n",
              "year              0.290316  1.000000  0.181528  \n",
              "origin            0.212746  0.181528  1.000000  "
            ]
          },
          "metadata": {
            "tags": []
          },
          "execution_count": 104
        }
      ]
    },
    {
      "metadata": {
        "id": "iI9xho-ACN_U",
        "colab_type": "text"
      },
      "cell_type": "markdown",
      "source": [
        "##(c)"
      ]
    },
    {
      "metadata": {
        "id": "_tVE8kP2Cti3",
        "colab_type": "text"
      },
      "cell_type": "markdown",
      "source": [
        "Use the\n",
        "lm()\n",
        "function to perform a multiple linear regression\n",
        "with\n",
        "mpg\n",
        "as the response and all other variables except\n",
        "name\n",
        "as\n",
        "the predictors.Use the\n",
        "summary()\n",
        "function to print the results.\n",
        "Comment on the output. "
      ]
    },
    {
      "metadata": {
        "id": "iy_TuhgoOOnC",
        "colab_type": "code",
        "colab": {}
      },
      "cell_type": "code",
      "source": [
        "df_x = pd.DataFrame(auto.loc[:,['cylinders','displacement','horsepower','weight','acceleration','year','origin']])\n",
        "df_y = pd.DataFrame(auto['mpg'])\n",
        "\n",
        "x_train,x_test,y_train,y_test = train_test_split(df_x,df_y,test_size=0.3,\n",
        "                                                 random_state=1)"
      ],
      "execution_count": 0,
      "outputs": []
    },
    {
      "metadata": {
        "id": "faujhHoOXgga",
        "colab_type": "code",
        "outputId": "deb34c3b-3e4d-49dd-e318-3f3304e6cfa3",
        "colab": {
          "base_uri": "https://localhost:8080/",
          "height": 35
        }
      },
      "cell_type": "code",
      "source": [
        "reg = linear_model.LinearRegression()\n",
        "reg.fit(x_train,y_train)\n",
        "reg.score(x_train,y_train)"
      ],
      "execution_count": 106,
      "outputs": [
        {
          "output_type": "execute_result",
          "data": {
            "text/plain": [
              "0.8173705034988942"
            ]
          },
          "metadata": {
            "tags": []
          },
          "execution_count": 106
        }
      ]
    },
    {
      "metadata": {
        "id": "PfWxAeKwCzmo",
        "colab_type": "text"
      },
      "cell_type": "markdown",
      "source": [
        "### For instance:"
      ]
    },
    {
      "metadata": {
        "id": "3chPOFHrC8es",
        "colab_type": "text"
      },
      "cell_type": "markdown",
      "source": [
        "i. Is there a relationship between the predictors and the response?\n"
      ]
    },
    {
      "metadata": {
        "id": "nbFgWULATBi0",
        "colab_type": "text"
      },
      "cell_type": "markdown",
      "source": [
        "Sim, o número de preditores aumentou a acurácia do modelo."
      ]
    },
    {
      "metadata": {
        "id": "so-2O7uGC-lE",
        "colab_type": "text"
      },
      "cell_type": "markdown",
      "source": [
        "ii. Which predictors appear to have a statistically significant\n",
        "relationship to the response?\n"
      ]
    },
    {
      "metadata": {
        "id": "u1NZgIjPTZrH",
        "colab_type": "code",
        "outputId": "c4369c1e-106f-4a68-e7af-631b208b8235",
        "colab": {
          "base_uri": "https://localhost:8080/",
          "height": 144
        }
      },
      "cell_type": "code",
      "source": [
        "#simple lists (0 dim)\n",
        "columns = df_x.columns\n",
        "slopes = reg.coef_[0] \n",
        "\n",
        "for i in range(len(columns)):\n",
        "  print(f\"{columns[i]}: {slopes[i]},\")"
      ],
      "execution_count": 107,
      "outputs": [
        {
          "output_type": "stream",
          "text": [
            "cylinders: -0.20597754591506173,\n",
            "displacement: 0.019638672533403297,\n",
            "horsepower: -0.0016160104218734199,\n",
            "weight: -0.0072828774806608775,\n",
            "acceleration: 0.2818661501356889,\n",
            "year: 0.742797516559533,\n",
            "origin: 1.3809037235552608,\n"
          ],
          "name": "stdout"
        }
      ]
    },
    {
      "metadata": {
        "id": "wz_KuBBeDAUz",
        "colab_type": "text"
      },
      "cell_type": "markdown",
      "source": [
        "iii. What does the coefficient for the\n",
        "year\n",
        "variable suggest?"
      ]
    },
    {
      "metadata": {
        "id": "GM2DkQm6b1kx",
        "colab_type": "text"
      },
      "cell_type": "markdown",
      "source": [
        "Carros lançados mais recentemente têm em média maior consumo de galões por milha."
      ]
    },
    {
      "metadata": {
        "id": "YiAzanTaCSNV",
        "colab_type": "text"
      },
      "cell_type": "markdown",
      "source": [
        "##(d)"
      ]
    },
    {
      "metadata": {
        "id": "aK02lt62DKgD",
        "colab_type": "text"
      },
      "cell_type": "markdown",
      "source": [
        "Use the\n",
        "plot()\n",
        "function to produce diagnostic plots of the linear\n",
        "regression fit. Comment on any problems you see with the fit.\n",
        "Do the residual plots suggest any unusually large outliers? Does\n",
        "the leverage plot identify any observations with unusually high\n",
        "leverage?"
      ]
    },
    {
      "metadata": {
        "id": "jd8g58kJdqKm",
        "colab_type": "code",
        "outputId": "542ed2cb-25a3-4593-9da7-f54770decf6a",
        "colab": {
          "base_uri": "https://localhost:8080/",
          "height": 546
        }
      },
      "cell_type": "code",
      "source": [
        "df_residual = y_test - reg.predict(x_test)\n",
        "residual_scatter =  go.Scatter(x= np.array(range(len(df_residual))),\n",
        "                               y= df_residual,\n",
        "                               mode='markers')\n",
        "data = [residual_scatter]\n",
        "py.iplot(data)\n",
        "#diferença entre estimado/real plotado como distancia do eixo x"
      ],
      "execution_count": 108,
      "outputs": [
        {
          "output_type": "execute_result",
          "data": {
            "text/html": [
              "<iframe id=\"igraph\" scrolling=\"no\" style=\"border:none;\" seamless=\"seamless\" src=\"https://plot.ly/~tonnioo/146.embed\" height=\"525px\" width=\"100%\"></iframe>"
            ],
            "text/plain": [
              "<plotly.tools.PlotlyDisplay object>"
            ]
          },
          "metadata": {
            "tags": []
          },
          "execution_count": 108
        }
      ]
    },
    {
      "metadata": {
        "id": "kEasKOm0tF0i",
        "colab_type": "code",
        "outputId": "94f1285d-599e-4070-e165-38dd7677b7c2",
        "colab": {
          "base_uri": "https://localhost:8080/",
          "height": 143
        }
      },
      "cell_type": "code",
      "source": [
        "#os maiores outliers são:\n",
        "df_residual.loc[df_residual['mpg']>= 10]"
      ],
      "execution_count": 109,
      "outputs": [
        {
          "output_type": "execute_result",
          "data": {
            "text/html": [
              "<div>\n",
              "<style scoped>\n",
              "    .dataframe tbody tr th:only-of-type {\n",
              "        vertical-align: middle;\n",
              "    }\n",
              "\n",
              "    .dataframe tbody tr th {\n",
              "        vertical-align: top;\n",
              "    }\n",
              "\n",
              "    .dataframe thead th {\n",
              "        text-align: right;\n",
              "    }\n",
              "</style>\n",
              "<table border=\"1\" class=\"dataframe\">\n",
              "  <thead>\n",
              "    <tr style=\"text-align: right;\">\n",
              "      <th></th>\n",
              "      <th>mpg</th>\n",
              "    </tr>\n",
              "  </thead>\n",
              "  <tbody>\n",
              "    <tr>\n",
              "      <th>309</th>\n",
              "      <td>10.266031</td>\n",
              "    </tr>\n",
              "    <tr>\n",
              "      <th>326</th>\n",
              "      <td>11.132126</td>\n",
              "    </tr>\n",
              "    <tr>\n",
              "      <th>329</th>\n",
              "      <td>10.220567</td>\n",
              "    </tr>\n",
              "  </tbody>\n",
              "</table>\n",
              "</div>"
            ],
            "text/plain": [
              "           mpg\n",
              "309  10.266031\n",
              "326  11.132126\n",
              "329  10.220567"
            ]
          },
          "metadata": {
            "tags": []
          },
          "execution_count": 109
        }
      ]
    },
    {
      "metadata": {
        "id": "eGL-s4AiDYhT",
        "colab_type": "text"
      },
      "cell_type": "markdown",
      "source": [
        "# 10. This question should be answered using the Carseats data set"
      ]
    },
    {
      "metadata": {
        "id": "1RfMjZupD5iE",
        "colab_type": "text"
      },
      "cell_type": "markdown",
      "source": [
        "##(a)"
      ]
    },
    {
      "metadata": {
        "id": "GFlsgWAaDygF",
        "colab_type": "text"
      },
      "cell_type": "markdown",
      "source": [
        "Fit a multiple regression model to predict\n",
        "Sales\n",
        "using\n",
        "Price\n",
        ",\n",
        "Urban\n",
        ",and\n",
        "US\n",
        ".\n"
      ]
    },
    {
      "metadata": {
        "id": "EnGyO5kA-ViH",
        "colab_type": "code",
        "colab": {}
      },
      "cell_type": "code",
      "source": [
        "carseats = pd.read_csv(\"https://raw.githubusercontent.com/tonnioo/scripts_e_vagabundagens/master/Carseats.csv\")\n",
        "\n",
        "df_x = pd.DataFrame(carseats.loc[:,['Price','Urban','US']])\n",
        "df_y = pd.DataFrame(carseats['Sales'])\n",
        "\n",
        "df_x = pd.get_dummies(df_x,drop_first=True)\n",
        "\n",
        "x_train,x_test,y_train,y_test = train_test_split(df_x,df_y,test_size=0.3,random_state=1)"
      ],
      "execution_count": 0,
      "outputs": []
    },
    {
      "metadata": {
        "id": "xgV4CwIZCsH6",
        "colab_type": "code",
        "outputId": "fe9fa07b-d8f0-4476-b70a-2b3aa4172f8f",
        "colab": {
          "base_uri": "https://localhost:8080/",
          "height": 35
        }
      },
      "cell_type": "code",
      "source": [
        "reg = linear_model.LinearRegression()\n",
        "reg.fit(x_train,y_train)\n",
        "reg.score(x_test,y_test)"
      ],
      "execution_count": 111,
      "outputs": [
        {
          "output_type": "execute_result",
          "data": {
            "text/plain": [
              "0.2848578202657208"
            ]
          },
          "metadata": {
            "tags": []
          },
          "execution_count": 111
        }
      ]
    },
    {
      "metadata": {
        "id": "wrrQwy5FEH3s",
        "colab_type": "text"
      },
      "cell_type": "markdown",
      "source": [
        "##(b)"
      ]
    },
    {
      "metadata": {
        "id": "zzSbolzkD8jA",
        "colab_type": "text"
      },
      "cell_type": "markdown",
      "source": [
        "Provide an interpretation of each coefficient in the model. Be\n",
        "careful—some of the variables in the model are qualitative!\n"
      ]
    },
    {
      "metadata": {
        "id": "8Oo27ivlHGFA",
        "colab_type": "code",
        "outputId": "374b8499-f4fa-4d20-9dc1-6d7a4c2612ca",
        "colab": {
          "base_uri": "https://localhost:8080/",
          "height": 53
        }
      },
      "cell_type": "code",
      "source": [
        "print(df_x.columns.tolist())\n",
        "print(reg.coef_.tolist()[0])"
      ],
      "execution_count": 112,
      "outputs": [
        {
          "output_type": "stream",
          "text": [
            "['Price', 'Urban_Yes', 'US_Yes']\n",
            "[-0.05258367239852627, -0.05805784871304398, 1.116252501248967]\n"
          ],
          "name": "stdout"
        }
      ]
    },
    {
      "metadata": {
        "id": "y7M2iMewHZ8w",
        "colab_type": "text"
      },
      "cell_type": "markdown",
      "source": [
        "A variável com maior efeito é a US (pois é qualitativa). \n",
        "\n",
        "O preço afeta negativamente na quantidade de vendas.\n",
        "\n",
        "O fato de ser uma área urbana ou não não afeta tanto nas vendas."
      ]
    },
    {
      "metadata": {
        "id": "d6F2J9ggEM2l",
        "colab_type": "text"
      },
      "cell_type": "markdown",
      "source": [
        "##(c)"
      ]
    },
    {
      "metadata": {
        "id": "Zb-XCZXuESGA",
        "colab_type": "text"
      },
      "cell_type": "markdown",
      "source": [
        "Write out the model in equation form, being careful to handle\n",
        "the qualitative variables properly.\n"
      ]
    },
    {
      "metadata": {
        "id": "ymn9c8SDP7WB",
        "colab_type": "code",
        "outputId": "d047047f-15bb-474a-918f-d4882e1eb71e",
        "colab": {
          "base_uri": "https://localhost:8080/",
          "height": 126
        }
      },
      "cell_type": "code",
      "source": [
        "x_intercept = pd.DataFrame({'Price': [0],'Urban_Yes': [0],'US_Yes': [0]})\n",
        "\n",
        "b0 = reg.predict(x_intercept)[0][0]\n",
        "b1,b2,b3 = reg.coef_.tolist()[0]\n",
        "x1,x2,x3 = [df_x['Price'],df_x['Urban_Yes'],df_x['US_Yes']]\n",
        "\n",
        "x1.tolist();x2.tolist();x3.tolist()\n",
        "\n",
        "yi = b0 + x1*b1 + x2*b2 + x3*b3\n",
        "yi.head()"
      ],
      "execution_count": 113,
      "outputs": [
        {
          "output_type": "execute_result",
          "data": {
            "text/plain": [
              "0    7.637376\n",
              "1    9.582972\n",
              "2    9.740723\n",
              "3    8.846800\n",
              "4    6.100454\n",
              "dtype: float64"
            ]
          },
          "metadata": {
            "tags": []
          },
          "execution_count": 113
        }
      ]
    },
    {
      "metadata": {
        "id": "NRMuVe88El9J",
        "colab_type": "text"
      },
      "cell_type": "markdown",
      "source": [
        "##(d)"
      ]
    },
    {
      "metadata": {
        "id": "0JazI5bDEiTh",
        "colab_type": "text"
      },
      "cell_type": "markdown",
      "source": [
        "For which of the predictors can you reject the null hypothesis\n",
        "\n",
        "*H0 : β1=0? *\n"
      ]
    },
    {
      "metadata": {
        "id": "B1UuZn6idDdX",
        "colab_type": "text"
      },
      "cell_type": "markdown",
      "source": [
        "The Urban variable can be discarded"
      ]
    },
    {
      "metadata": {
        "id": "ack5EBEsGF_9",
        "colab_type": "text"
      },
      "cell_type": "markdown",
      "source": [
        "## (e)"
      ]
    },
    {
      "metadata": {
        "id": "Cf3UXYBME1Dp",
        "colab_type": "text"
      },
      "cell_type": "markdown",
      "source": [
        "On the basis of your response to the previous question, fit a\n",
        "smaller model that only uses the predictors for which there is\n",
        "evidence of association with the outcome.\n"
      ]
    },
    {
      "metadata": {
        "id": "3fKUOTnwdaBW",
        "colab_type": "code",
        "outputId": "925b8a06-9555-45d2-916e-2ce9f515679d",
        "colab": {
          "base_uri": "https://localhost:8080/",
          "height": 35
        }
      },
      "cell_type": "code",
      "source": [
        "df_x = df_x.drop(['Urban_Yes'],axis=1)\n",
        "x_train,x_test,y_train,y_test = train_test_split(df_x,df_y,test_size=0.3,random_state=1)\n",
        "\n",
        "reg = linear_model.LinearRegression()\n",
        "reg.fit(x_train,y_train)\n",
        "reg.score(x_test,y_test)"
      ],
      "execution_count": 114,
      "outputs": [
        {
          "output_type": "execute_result",
          "data": {
            "text/plain": [
              "0.28512926017033446"
            ]
          },
          "metadata": {
            "tags": []
          },
          "execution_count": 114
        }
      ]
    },
    {
      "metadata": {
        "id": "xeUWTxzEGLVq",
        "colab_type": "text"
      },
      "cell_type": "markdown",
      "source": [
        "## (f)"
      ]
    },
    {
      "metadata": {
        "id": "zsXMuANcGI2_",
        "colab_type": "text"
      },
      "cell_type": "markdown",
      "source": [
        "How well do the models in **(a)** and **(e)** fit the data?\n"
      ]
    },
    {
      "metadata": {
        "id": "cj_oURUde5C9",
        "colab_type": "text"
      },
      "cell_type": "markdown",
      "source": [
        "Nenhum dos dois possui um bom poder preditivo."
      ]
    },
    {
      "metadata": {
        "id": "DniTZ5ORG6WC",
        "colab_type": "text"
      },
      "cell_type": "markdown",
      "source": [
        "Using the model from **(e)**, obtain 95 % confidence intervals for the coefficient(s).\n"
      ]
    },
    {
      "metadata": {
        "id": "dM1WS3TiHCNs",
        "colab_type": "text"
      },
      "cell_type": "markdown",
      "source": [
        "## (i)"
      ]
    },
    {
      "metadata": {
        "id": "l2f5cppjG-94",
        "colab_type": "text"
      },
      "cell_type": "markdown",
      "source": [
        "\n",
        "Is there evidence of outliers or high leverage observations in the\n",
        "model from **(e)**?"
      ]
    },
    {
      "metadata": {
        "id": "PSN_b2a3fLgj",
        "colab_type": "code",
        "outputId": "d73db9bb-1360-4d22-db2e-254b9237a08d",
        "colab": {
          "base_uri": "https://localhost:8080/",
          "height": 546
        }
      },
      "cell_type": "code",
      "source": [
        "df_residual = y_test - reg.predict(x_test)\n",
        "residual_scatter =  go.Scatter(x= np.array(range(len(df_residual))),\n",
        "                               y= df_residual,\n",
        "                               mode='markers')\n",
        "data = [residual_scatter]\n",
        "py.iplot(data)"
      ],
      "execution_count": 115,
      "outputs": [
        {
          "output_type": "execute_result",
          "data": {
            "text/html": [
              "<iframe id=\"igraph\" scrolling=\"no\" style=\"border:none;\" seamless=\"seamless\" src=\"https://plot.ly/~tonnioo/148.embed\" height=\"525px\" width=\"100%\"></iframe>"
            ],
            "text/plain": [
              "<plotly.tools.PlotlyDisplay object>"
            ]
          },
          "metadata": {
            "tags": []
          },
          "execution_count": 115
        }
      ]
    },
    {
      "metadata": {
        "id": "Jul-OJdDfbdj",
        "colab_type": "text"
      },
      "cell_type": "markdown",
      "source": [
        "Sim, dadas as dimensões da variável dependente, é possível observar a presença de outliers."
      ]
    },
    {
      "metadata": {
        "id": "zgj4gUcsQnSb",
        "colab_type": "text"
      },
      "cell_type": "markdown",
      "source": [
        "# 13. In this exercise you will create some simulated data and will fit simple linear regression models to it. Make sure to use `set.seed(1)` prior to starting part (a) to ensure consistent results."
      ]
    },
    {
      "metadata": {
        "id": "IIGbYlCoRoGg",
        "colab_type": "text"
      },
      "cell_type": "markdown",
      "source": [
        "## (a)"
      ]
    },
    {
      "metadata": {
        "id": "4dj4h5YWUBQy",
        "colab_type": "text"
      },
      "cell_type": "markdown",
      "source": [
        "Using the `rnorm()`\n",
        "function, create a vector, x, containing 100 observations drawn from a N(0,1) distribution. This represents a feature, **X**."
      ]
    },
    {
      "metadata": {
        "id": "WJ-0UwFJftWm",
        "colab_type": "code",
        "colab": {}
      },
      "cell_type": "code",
      "source": [
        "x = np.random.normal(0,0.1,100)"
      ],
      "execution_count": 0,
      "outputs": []
    },
    {
      "metadata": {
        "id": "6vS1gYJjRpxG",
        "colab_type": "text"
      },
      "cell_type": "markdown",
      "source": [
        "## (b)"
      ]
    },
    {
      "metadata": {
        "id": "JOjxXMMLVizH",
        "colab_type": "text"
      },
      "cell_type": "markdown",
      "source": [
        "Using the\n",
        "`rnorm()`\n",
        "function, create a vector, eps, containing 100 observations drawn from a N(0,0.25) distribution i.e. a normal\n",
        "distribution with mean zero and variance 0.25."
      ]
    },
    {
      "metadata": {
        "id": "IJr34lQcg1Jm",
        "colab_type": "code",
        "outputId": "bbd4a720-4c08-4ce9-c875-b86902776cb6",
        "colab": {
          "base_uri": "https://localhost:8080/",
          "height": 35
        }
      },
      "cell_type": "code",
      "source": [
        "eps = np.random.normal(0,0.25,100)\n",
        "np.mean(eps)"
      ],
      "execution_count": 117,
      "outputs": [
        {
          "output_type": "execute_result",
          "data": {
            "text/plain": [
              "0.018235734370760818"
            ]
          },
          "metadata": {
            "tags": []
          },
          "execution_count": 117
        }
      ]
    },
    {
      "metadata": {
        "id": "uR7I0l7yRr6d",
        "colab_type": "text"
      },
      "cell_type": "markdown",
      "source": [
        "## (c)"
      ]
    },
    {
      "metadata": {
        "id": "PVmdGruJWF5T",
        "colab_type": "text"
      },
      "cell_type": "markdown",
      "source": [
        "Using\n",
        "x\n",
        "and\n",
        "eps, generate a vector\n",
        "y\n",
        "according to the model Yi\n",
        "=\n",
        "−1 + 0.5x\n",
        "+\n",
        "ε.\n",
        "\n",
        "What is the length of the vector\n",
        "y? What are the values of\n",
        "β0\n",
        "and\n",
        "β1\n",
        "in this linear model?"
      ]
    },
    {
      "metadata": {
        "id": "uCY4KuVLpakv",
        "colab_type": "code",
        "colab": {}
      },
      "cell_type": "code",
      "source": [
        "yi = -1 + 0.5*x + np.mean(eps) #isso provavelmente tá errado"
      ],
      "execution_count": 0,
      "outputs": []
    },
    {
      "metadata": {
        "id": "Z0_T7kAHp9yL",
        "colab_type": "text"
      },
      "cell_type": "markdown",
      "source": [
        "β0= -1 β1=0.5"
      ]
    },
    {
      "metadata": {
        "id": "a-DrAo1uRvRy",
        "colab_type": "text"
      },
      "cell_type": "markdown",
      "source": [
        "## (d)"
      ]
    },
    {
      "metadata": {
        "id": "G5_E6awIXVeN",
        "colab_type": "text"
      },
      "cell_type": "markdown",
      "source": [
        "Create a scatterplot displaying the relationship between\n",
        "x\n",
        "and\n",
        "y. Comment on what you observe."
      ]
    },
    {
      "metadata": {
        "id": "V3krN9VQqGnJ",
        "colab_type": "code",
        "outputId": "acb4c040-5417-4472-b75b-66ee6a2d6d99",
        "colab": {
          "base_uri": "https://localhost:8080/",
          "height": 546
        }
      },
      "cell_type": "code",
      "source": [
        "scatter_plot = go.Scatter(x=x,\n",
        "                          y=yi,\n",
        "                          mode='markers')\n",
        "data=[scatter_plot]\n",
        "py.iplot(data)"
      ],
      "execution_count": 119,
      "outputs": [
        {
          "output_type": "execute_result",
          "data": {
            "text/html": [
              "<iframe id=\"igraph\" scrolling=\"no\" style=\"border:none;\" seamless=\"seamless\" src=\"https://plot.ly/~tonnioo/150.embed\" height=\"525px\" width=\"100%\"></iframe>"
            ],
            "text/plain": [
              "<plotly.tools.PlotlyDisplay object>"
            ]
          },
          "metadata": {
            "tags": []
          },
          "execution_count": 119
        }
      ]
    },
    {
      "metadata": {
        "id": "6rcsVUdsytox",
        "colab_type": "text"
      },
      "cell_type": "markdown",
      "source": [
        "x e y possuem uma correlação linear perfeita, com 0 de erro."
      ]
    },
    {
      "metadata": {
        "id": "0uvzaNHoRw5H",
        "colab_type": "text"
      },
      "cell_type": "markdown",
      "source": [
        "## (e)"
      ]
    },
    {
      "metadata": {
        "id": "mncI296mX-6z",
        "colab_type": "text"
      },
      "cell_type": "markdown",
      "source": [
        "Fit a least squares linear model to predict\n",
        "y\n",
        "using\n",
        "x. Comment\n",
        "on the model obtained. How do the estimated\n",
        "β0\n",
        "and\n",
        "β1\n",
        "compare to\n",
        "β0\n",
        "and\n",
        "β1\n",
        "?"
      ]
    },
    {
      "metadata": {
        "id": "dX_nz1Cg0Biz",
        "colab_type": "code",
        "outputId": "35b6101e-b2a5-4df0-fbef-0b1497d6faea",
        "colab": {
          "base_uri": "https://localhost:8080/",
          "height": 35
        }
      },
      "cell_type": "code",
      "source": [
        "df_x = pd.DataFrame(x)\n",
        "df_y = pd.DataFrame(yi)\n",
        "\n",
        "\n",
        "x_train,x_test,y_train,y_test = train_test_split(df_x,df_y,test_size=0.3,random_state=1)\n",
        "reg = linear_model.LinearRegression()\n",
        "reg.fit(x_train,y_train)\n",
        "reg.score(x_test,y_test)"
      ],
      "execution_count": 120,
      "outputs": [
        {
          "output_type": "execute_result",
          "data": {
            "text/plain": [
              "1.0"
            ]
          },
          "metadata": {
            "tags": []
          },
          "execution_count": 120
        }
      ]
    },
    {
      "metadata": {
        "id": "iB1kWijX3PyZ",
        "colab_type": "text"
      },
      "cell_type": "markdown",
      "source": [
        "A correlação é perfeita, os coeficientes estimados são iguais os reais."
      ]
    },
    {
      "metadata": {
        "id": "lpqcJgtqR0Ia",
        "colab_type": "text"
      },
      "cell_type": "markdown",
      "source": [
        "## (f)"
      ]
    },
    {
      "metadata": {
        "id": "8B2dI9q1YPx3",
        "colab_type": "text"
      },
      "cell_type": "markdown",
      "source": [
        "Display the least squares line on the scatterplot obtained in **(d)**.\n",
        "Draw the population regression line on the plot, in a different\n",
        "color. Use the\n",
        "`legend()`\n",
        "command to create an\n",
        "appropriate legend."
      ]
    },
    {
      "metadata": {
        "id": "iO-lntWS3cfH",
        "colab_type": "code",
        "outputId": "814f13fc-0776-4ce6-ffa5-f16c8644a1cf",
        "colab": {
          "base_uri": "https://localhost:8080/",
          "height": 546
        }
      },
      "cell_type": "code",
      "source": [
        "scatter_plot = go.Scatter(x=x_test,\n",
        "                          y=y_test,\n",
        "                          mode='markers')\n",
        "\n",
        "y = list()\n",
        "for i in reg.predict(x_test).tolist():\n",
        "  y.append(i[0])\n",
        "\n",
        "\n",
        "line_plot = go.Scatter(x=x_test,\n",
        "                       y=y,\n",
        "                       mode='lines')\n",
        "\n",
        "y\n",
        "data=[scatter_plot,line_plot]\n",
        "py.iplot(data)"
      ],
      "execution_count": 121,
      "outputs": [
        {
          "output_type": "execute_result",
          "data": {
            "text/html": [
              "<iframe id=\"igraph\" scrolling=\"no\" style=\"border:none;\" seamless=\"seamless\" src=\"https://plot.ly/~tonnioo/152.embed\" height=\"525px\" width=\"100%\"></iframe>"
            ],
            "text/plain": [
              "<plotly.tools.PlotlyDisplay object>"
            ]
          },
          "metadata": {
            "tags": []
          },
          "execution_count": 121
        }
      ]
    },
    {
      "metadata": {
        "id": "N-WFrgI1R10o",
        "colab_type": "text"
      },
      "cell_type": "markdown",
      "source": [
        "## (g)"
      ]
    },
    {
      "metadata": {
        "id": "XSdPgyTnZcRp",
        "colab_type": "text"
      },
      "cell_type": "markdown",
      "source": [
        "Now fit a polynomial regression model that predicts\n",
        "y\n",
        "using\n",
        "x\n",
        "and\n",
        "x². Is there evidence that the quadratic term improves the\n",
        "model fit? Explain your answer."
      ]
    },
    {
      "metadata": {
        "id": "uLR_JTWEOX2a",
        "colab_type": "code",
        "colab": {}
      },
      "cell_type": "code",
      "source": [
        "x = df_x.values.reshape(1,-1)[0]\n",
        "y = df_y.values.reshape(1,-1)[0]\n",
        "\n",
        "reg = np.polyfit(x,y,3) #estima um modelo ols polinomial de grau 2 (ax^2+bx+c)\n",
        "f = np.poly1d(reg) #instancia um objeto para polinomios do numpy\n",
        "\n",
        "yhat = f(x)"
      ],
      "execution_count": 0,
      "outputs": []
    },
    {
      "metadata": {
        "id": "dcdTHFKuUvcu",
        "colab_type": "text"
      },
      "cell_type": "markdown",
      "source": [
        "Os valores preditos não são melhores em relação aos valores reais. Porque estes possuem uma distribuição linear, e não polinomial"
      ]
    },
    {
      "metadata": {
        "id": "vsA2c696R3kt",
        "colab_type": "text"
      },
      "cell_type": "markdown",
      "source": [
        "## (h)"
      ]
    },
    {
      "metadata": {
        "id": "qwjrOZvJZ2B6",
        "colab_type": "text"
      },
      "cell_type": "markdown",
      "source": [
        "Repeat **(a)–(f)** after modifying the data generation process in\n",
        "such a way that there is\n",
        "less\n",
        "noise in the data. The model (3.39)\n",
        "should remain the same. You can do this by decreasing the variance of the normal distribution used to generate the error term\n",
        "in **(b)**. Describe your results."
      ]
    },
    {
      "metadata": {
        "id": "Ov_p5FSmR6hq",
        "colab_type": "text"
      },
      "cell_type": "markdown",
      "source": [
        "## (i)"
      ]
    },
    {
      "metadata": {
        "id": "d6hh4coHaKBz",
        "colab_type": "text"
      },
      "cell_type": "markdown",
      "source": [
        "Repeat **(a)–(f)** after modifying the data generation process in\n",
        "such a way that there is\n",
        "more\n",
        "noise in the data. The model\n",
        "(3.39) should remain the same. You can do this by increasing\n",
        "the variance of the normal distribution used to generate the\n",
        "error term\n",
        "\u0003\n",
        "in **(b)**. Describe your results."
      ]
    },
    {
      "metadata": {
        "id": "VIATJf4yR8fd",
        "colab_type": "text"
      },
      "cell_type": "markdown",
      "source": [
        "## (j)"
      ]
    },
    {
      "metadata": {
        "id": "P7UltFREapIZ",
        "colab_type": "text"
      },
      "cell_type": "markdown",
      "source": [
        "What are the confidence intervals for\n",
        "β0\n",
        "and\n",
        "β1\n",
        "based on the\n",
        "original data set, the noisier data set, and the less noisy data\n",
        "set? Comment on your results."
      ]
    },
    {
      "metadata": {
        "id": "yqLQOCVMekCM",
        "colab_type": "text"
      },
      "cell_type": "markdown",
      "source": [
        "# 15. This problem involves the Boston data set, which we saw in the lab for this chapter. We will now try to predict per capita crime rate using the other variables in this data set. In other words, per capita crime rate is the response, and the other variables are the predictors."
      ]
    },
    {
      "metadata": {
        "id": "ua4WhW8kgvVx",
        "colab_type": "text"
      },
      "cell_type": "markdown",
      "source": [
        "## (a)"
      ]
    },
    {
      "metadata": {
        "id": "ONevQjqpg5L4",
        "colab_type": "text"
      },
      "cell_type": "markdown",
      "source": [
        "For each predictor, fit a simple linear regression model to predict\n",
        "the response. Describe your results. In which of the models is\n",
        "there a statistically significant association between the predictor\n",
        "and the response? Create some plots to back up your assertions."
      ]
    },
    {
      "metadata": {
        "id": "KAymBXZcMdaz",
        "colab_type": "code",
        "outputId": "e65b3805-5aa4-441c-aa1a-258a0089c112",
        "colab": {
          "base_uri": "https://localhost:8080/",
          "height": 271
        }
      },
      "cell_type": "code",
      "source": [
        "df = pd.read_csv('https://raw.githubusercontent.com/tonnioo/scripts_e_vagabundagens/master/Boston.csv')\n",
        "df = df.iloc[:,1:]\n",
        "\n",
        "y = df['medv']\n",
        "\n",
        "reg = linear_model.LinearRegression()\n",
        "for column in df.columns:\n",
        "\n",
        "  x = np.array([[i] for i in df[column].values])\n",
        "  reg.fit(x,y)\n",
        "  print(column,':',reg.score(x,y))"
      ],
      "execution_count": 123,
      "outputs": [
        {
          "output_type": "stream",
          "text": [
            "crim : 0.15078046904975717\n",
            "zn : 0.12992084489428946\n",
            "indus : 0.2339900304444752\n",
            "chas : 0.03071612970877491\n",
            "nox : 0.182603042501699\n",
            "rm : 0.4835254559913343\n",
            "age : 0.14209474407780442\n",
            "dis : 0.06246437212178257\n",
            "rad : 0.14563857991232532\n",
            "tax : 0.2195259210442193\n",
            "ptratio : 0.257847318009223\n",
            "black : 0.11119611824636277\n",
            "lstat : 0.5441462975864797\n",
            "medv : 1.0\n"
          ],
          "name": "stdout"
        }
      ]
    },
    {
      "metadata": {
        "id": "yQZBKdoEUhmy",
        "colab_type": "text"
      },
      "cell_type": "markdown",
      "source": [
        "'rm' e 'lstat' possuem poder preditivo relevante."
      ]
    },
    {
      "metadata": {
        "id": "JCwwNJjCVKD5",
        "colab_type": "code",
        "colab": {}
      },
      "cell_type": "code",
      "source": [
        "rm = np.array([[i] for i in df['rm'].values])\n",
        "lstat = np.array([[i] for i in df['lstat'].values])\n",
        "y = df['medv']\n",
        "\n",
        "reg1 = linear_model.LinearRegression()\n",
        "reg1.fit(rm,y)\n",
        "yhat_rm = reg1.predict(rm)\n",
        "\n",
        "reg2 = linear_model.LinearRegression()\n",
        "reg2.fit(lstat,y)\n",
        "yhat_lstat = reg2.predict(lstat)"
      ],
      "execution_count": 0,
      "outputs": []
    },
    {
      "metadata": {
        "id": "mGPSlUhsUqi1",
        "colab_type": "code",
        "outputId": "f54acd9b-93d1-4143-87d9-c4323f4e0b1b",
        "colab": {
          "base_uri": "https://localhost:8080/",
          "height": 600
        }
      },
      "cell_type": "code",
      "source": [
        "scatter_rm = go.Scatter(x= rm,\n",
        "                        y= y,\n",
        "                        mode='markers')\n",
        "scatter_lstat = go.Scatter(x= lstat,\n",
        "                        y= y,\n",
        "                        mode='markers')\n",
        "\n",
        "rm_reg_line = go.Scatter(x= rm,\n",
        "                        y=yhat_rm,\n",
        "                        mode='lines')\n",
        "lstat_reg_line = go.Scatter(x=lstat,\n",
        "                           y=yhat_lstat,\n",
        "                           mode='lines')\n",
        "\n",
        "fig = plotly.tools.make_subplots(rows=1, cols=2)\n",
        "fig.append_trace(scatter_rm, 1, 1)\n",
        "fig.append_trace(rm_reg_line,1,1)\n",
        "\n",
        "fig.append_trace(scatter_lstat, 1, 2)\n",
        "fig.append_trace(lstat_reg_line,1,2)\n",
        "\n",
        "py.iplot(fig)"
      ],
      "execution_count": 126,
      "outputs": [
        {
          "output_type": "stream",
          "text": [
            "This is the format of your plot grid:\n",
            "[ (1,1) x1,y1 ]  [ (1,2) x2,y2 ]\n",
            "\n"
          ],
          "name": "stdout"
        },
        {
          "output_type": "execute_result",
          "data": {
            "text/html": [
              "<iframe id=\"igraph\" scrolling=\"no\" style=\"border:none;\" seamless=\"seamless\" src=\"https://plot.ly/~tonnioo/156.embed\" height=\"525px\" width=\"100%\"></iframe>"
            ],
            "text/plain": [
              "<plotly.tools.PlotlyDisplay object>"
            ]
          },
          "metadata": {
            "tags": []
          },
          "execution_count": 126
        }
      ]
    },
    {
      "metadata": {
        "id": "_-nQaP-5gyvq",
        "colab_type": "text"
      },
      "cell_type": "markdown",
      "source": [
        "## (b)"
      ]
    },
    {
      "metadata": {
        "id": "zvTtzYf1g9Rl",
        "colab_type": "text"
      },
      "cell_type": "markdown",
      "source": [
        "Fit a multiple regression model to predict the response using\n",
        "all of the predictors. Describe you\n",
        "r results. For which predictors\n",
        "can we reject the null hypothesis\n",
        "H0:β1\n",
        "=0?"
      ]
    },
    {
      "metadata": {
        "id": "6iIGOH30ctyk",
        "colab_type": "code",
        "colab": {}
      },
      "cell_type": "code",
      "source": [
        "df.columns"
      ],
      "execution_count": 0,
      "outputs": []
    },
    {
      "metadata": {
        "id": "axSGgKNnb8hG",
        "colab_type": "code",
        "colab": {}
      },
      "cell_type": "code",
      "source": [
        "import statsmodels.formula.api as sms\n",
        "\n",
        "sms_reg = sms.ols(formula='medv ~ crim + zn + indus + chas + nox + rm + age + dis + rad + tax + ptratio + black + lstat + medv',data= df).fit()\n",
        "sms_reg.summary()"
      ],
      "execution_count": 0,
      "outputs": []
    },
    {
      "metadata": {
        "colab_type": "text",
        "id": "89svQWH9haH8"
      },
      "cell_type": "markdown",
      "source": [
        "## (c)"
      ]
    },
    {
      "metadata": {
        "colab_type": "text",
        "id": "Mlxzwq0IhY8k"
      },
      "cell_type": "markdown",
      "source": [
        "How do your results from **(a)** compare to your results from **(b)**?\n",
        "Create a plot displaying the uni\n",
        "variate regression coefficients\n",
        "from **(a)** on the\n",
        "x-axis, and the multiple regression coefficients\n",
        "from **(b)** on the\n",
        "y-axis. That is, each predictor is displayed as a\n",
        "single point in the plot. Its coefficient in a simple linear regres-sion model is shown on the\n",
        "x-axis, and its coefficient estimate\n",
        "in the multiple linear regression model is shown on the\n",
        "y-axis."
      ]
    },
    {
      "metadata": {
        "id": "21p1WFJbhlZm",
        "colab_type": "text"
      },
      "cell_type": "markdown",
      "source": [
        "## (d)"
      ]
    },
    {
      "metadata": {
        "colab_type": "text",
        "id": "EfhxMUbXhYv0"
      },
      "cell_type": "markdown",
      "source": [
        "Is there evidence of non-linear association between any of the\n",
        "predictors and the response? To answer this question, for each\n",
        "predictor x, fit a model of the form\n",
        "\n",
        "y=β0 + β1x + β2x² + β3x³ + ε."
      ]
    }
  ]
}